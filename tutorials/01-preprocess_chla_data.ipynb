{
 "cells": [
  {
   "cell_type": "markdown",
   "metadata": {},
   "source": [
    "Download the data from zenodo and unzip"
   ]
  },
  {
   "cell_type": "markdown",
   "metadata": {},
   "source": [
    "Pearl River Estuary \n",
    "longitude 112-116E\n",
    "latitude 20.5-23N"
   ]
  },
  {
   "cell_type": "code",
   "execution_count": 1,
   "metadata": {},
   "outputs": [
    {
     "name": "stdout",
     "output_type": "stream",
     "text": [
      "Loaded 2003 year\n",
      "Loaded 2004 year\n",
      "Loaded 2005 year\n",
      "Loaded 2006 year\n",
      "Loaded 2007 year\n",
      "Loaded 2008 year\n",
      "Loaded 2009 year\n",
      "Loaded 2010 year\n",
      "Loaded 2011 year\n",
      "Loaded 2012 year\n",
      "Loaded 2013 year\n",
      "Loaded 2014 year\n",
      "Loaded 2015 year\n",
      "Loaded 2016 year\n",
      "Loaded 2017 year\n",
      "Loaded 2018 year\n",
      "Loaded 2019 year\n",
      "Loaded 2020 year\n",
      "Loaded 2021 year\n",
      "Loaded 2022 year\n",
      "Loaded 2023 year\n"
     ]
    },
    {
     "name": "stderr",
     "output_type": "stream",
     "text": [
      "/tmp/ipykernel_2841321/3448380323.py:37: RuntimeWarning: All-NaN slice encountered\n",
      "  chla_max = np.nanmax(chla,0)\n",
      "/tmp/ipykernel_2841321/3448380323.py:39: RuntimeWarning: All-NaN slice encountered\n",
      "  chla_min = np.nanmin(chla,0)\n",
      "/tmp/ipykernel_2841321/3448380323.py:41: RuntimeWarning: Mean of empty slice\n",
      "  chla_mean = np.nanmean(chla,0)\n",
      "/home/mafzhang/miniconda3/envs/torch/lib/python3.9/site-packages/numpy/lib/nanfunctions.py:1879: RuntimeWarning: Degrees of freedom <= 0 for slice.\n",
      "  var = nanvar(a, axis=axis, dtype=dtype, out=out, ddof=ddof,\n"
     ]
    }
   ],
   "source": [
    "import h5py\n",
    "import torch\n",
    "import numpy as np\n",
    "from mpl_toolkits import basemap\n",
    "from sklearn.cluster import KMeans, DBSCAN, SpectralClustering\n",
    "import cartopy.crs as ccrs\n",
    "from copy import deepcopy\n",
    "import h5py\n",
    "from numpy import meshgrid\n",
    "import numpy as np\n",
    "import os\n",
    "\n",
    "data = h5py.File(\"../data/raw_data/etopo_2022_modisgrid.mat\",'r')\n",
    "depth = np.array(data['H'])\n",
    "lon = np.array(data['lon'])\n",
    "lati = np.array(data['lat'])\n",
    "chla = []\n",
    "\n",
    "data_path = \"../data/PRE/\"\n",
    "if not os.path.exists(data_path):\n",
    "    os.makedirs(data_path)\n",
    "\n",
    "chlas=[]\n",
    "for i in range(2003,2024):\n",
    "    data = h5py.File(\"../data/raw_data/modis_aqua_8d_0m200m_{}.mat\".format(str(i)),\"r\")\n",
    "    chla = np.array(data['CHLA'])\n",
    "    tmp = deepcopy(chla[:,1608:1668,7008:7104])\n",
    "    del chla\n",
    "    chlas.append(tmp)\n",
    "    data.close()\n",
    "    print(\"Loaded {} year\".format(i))\n",
    "\n"
   ]
  },
  {
   "cell_type": "code",
   "execution_count": 11,
   "metadata": {},
   "outputs": [
    {
     "name": "stderr",
     "output_type": "stream",
     "text": [
      "/tmp/ipykernel_2841321/98731427.py:9: RuntimeWarning: All-NaN slice encountered\n",
      "  chla_max = np.nanmax(chla,0)\n",
      "/tmp/ipykernel_2841321/98731427.py:11: RuntimeWarning: All-NaN slice encountered\n",
      "  chla_min = np.nanmin(chla,0)\n",
      "/tmp/ipykernel_2841321/98731427.py:13: RuntimeWarning: Mean of empty slice\n",
      "  chla_mean = np.nanmean(chla,0)\n"
     ]
    }
   ],
   "source": [
    "data = h5py.File(\"../data/raw_data/etopo_2022_modisgrid.mat\",'r')\n",
    "depth = np.array(data['H'])\n",
    "lon = np.array(data['lon'])\n",
    "lati = np.array(data['lat'])\n",
    "lon = lon[:,7008:7104].repeat(60,0)\n",
    "lati = lati[0,1608:1668][:,np.newaxis].repeat(96,1)\n",
    "chla = np.concatenate(chlas, axis=0)\n",
    "chla = np.log10(chla)\n",
    "chla_max = np.nanmax(chla,0)\n",
    "chla_max = np.nan_to_num(chla_max,nan=0.)\n",
    "chla_min = np.nanmin(chla,0)\n",
    "chla_min = np.nan_to_num(chla_min,nan=0.)\n",
    "chla_mean = np.nanmean(chla,0)\n",
    "chla_mean = np.nan_to_num(chla_mean,nan=0.)\n",
    "chla_std = np.nanstd(chla,0)\n",
    "chla_std = np.nan_to_num(chla_std,nan=1.)\n",
    "missing_ratio = np.sum(np.isnan(chla),0)/chla.shape[0]\n",
    "is_sea = missing_ratio<0.9\n",
    "\n",
    "import torch_geometric\n",
    "lon_ = lon[is_sea]\n",
    "lati_ = lati[is_sea]\n",
    "start = []\n",
    "end = []\n",
    "for i in range(is_sea.sum()):\n",
    "    for j in range(is_sea.sum()):\n",
    "        if abs(lon_[i]-lon_[j])<0.05 and abs(lati_[i]-lati_[j])<0.05:\n",
    "            start.append(i)\n",
    "            end.append(j)\n",
    "start = torch.Tensor(start)\n",
    "end = torch.Tensor(end)\n",
    "adj = torch_geometric.utils.to_dense_adj(torch.stack([start,end],0).long(), torch.zeros(is_sea.sum()).long())"
   ]
  },
  {
   "cell_type": "code",
   "execution_count": 12,
   "metadata": {},
   "outputs": [],
   "source": [
    "np.save(data_path+\"chla.npy\", 10**chla)\n",
    "np.save(data_path+\"is_sea.npy\", is_sea)\n",
    "np.save(data_path+\"max.npy\", chla_max)\n",
    "np.save(data_path+\"min.npy\", chla_min)\n",
    "np.save(data_path+\"mean.npy\", chla_mean)\n",
    "np.save(data_path+\"std.npy\", chla_std)\n"
   ]
  },
  {
   "cell_type": "markdown",
   "metadata": {},
   "source": [
    "For Chesapeake Bay:\n",
    "    modify the data_path->\"../data/Chesapeake\"\n",
    "    tmp = deepcopy(chla[:,1224:1284,2484:2532])\n",
    "    lon_ = lon[:,2484:2532].repeat(60,0)\n",
    "    lati_ = lati[0,1224:1284][:,np.newaxis].repeat(48,1)\n",
    "\n",
    "For the north of Mexico:\n",
    "    modify the data_path->\"../data/MEXICO\"\n",
    "    tmp = deepcopy(chla[:,1440:1476,2064:2184])\n",
    "    lon_ = lon[:, 2064:2184].repeat(36,0)\n",
    "    lati_ = lati[0, 1440:1476][:,np.newaxis].repeat(120,1)\n",
    "\n",
    "For Yangtze Estuary:\n",
    "    modify the data_path->\"../data/Yangtze\"\n",
    "    tmp = deepcopy(chla[:,1392:1488,7224:7296])\n",
    "    lon_ = lon[:, 7224:7296].repeat(36,0)\n",
    "    lati_ = lati[0, 1392:1488][:,np.newaxis].repeat(120,1)\n"
   ]
  }
 ],
 "metadata": {
  "kernelspec": {
   "display_name": "torch",
   "language": "python",
   "name": "python3"
  },
  "language_info": {
   "codemirror_mode": {
    "name": "ipython",
    "version": 3
   },
   "file_extension": ".py",
   "mimetype": "text/x-python",
   "name": "python",
   "nbconvert_exporter": "python",
   "pygments_lexer": "ipython3",
   "version": "3.9.19"
  }
 },
 "nbformat": 4,
 "nbformat_minor": 2
}
