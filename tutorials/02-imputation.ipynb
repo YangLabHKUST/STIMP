{
 "cells": [
  {
   "cell_type": "markdown",
   "metadata": {},
   "source": [
    "**For Pearl River Estuary:**\n",
    "\n",
    "**training STIMP imputation function**\n",
    "```bash\n",
    "for i in {0.1,0.2,0.3,0.4,0.5,0.6,0.7,0.8,0.9}\n",
    "do\n",
    "  python imputation/train_stimp.py --missing_ratio $i --area $1\n",
    "done\n",
    "```\n",
    "**training other baselines**\n",
    "```bash\n",
    "for i in {0.1,0.2,0.3,0.4,0.5,0.6,0.7,0.8,0.9}\n",
    "do\n",
    "  python imputation/train_{}.py --missing_ratio $i --area $1\n",
    "done\n",
    "```\n"
   ]
  },
  {
   "cell_type": "code",
   "execution_count": null,
   "metadata": {},
   "outputs": [],
   "source": []
  }
 ],
 "metadata": {
  "kernelspec": {
   "display_name": "torch",
   "language": "python",
   "name": "python3"
  },
  "language_info": {
   "name": "python",
   "version": "3.9.19"
  }
 },
 "nbformat": 4,
 "nbformat_minor": 2
}
